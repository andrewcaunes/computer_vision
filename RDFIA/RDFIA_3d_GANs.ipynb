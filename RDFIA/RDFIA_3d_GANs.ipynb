{
  "cells": [
    {
      "cell_type": "code",
      "execution_count": null,
      "metadata": {
        "id": "QDw3-Qk6v192"
      },
      "outputs": [],
      "source": [
        "import torch\n",
        "import torch.nn as nn\n",
        "import torch.nn.functional as F\n",
        "from torch.utils.data import DataLoader\n",
        "\n",
        "import torchvision.transforms as transforms\n",
        "import torchvision.utils\n",
        "from torchvision.utils import make_grid\n",
        "\n",
        "import torchvision.datasets\n",
        "\n",
        "import matplotlib.pyplot as plt \n",
        "plt.rcParams[\"figure.figsize\"] = (10,6)\n",
        "\n",
        "from tqdm import tqdm \n",
        "\n",
        "device = torch.device(\"cuda:0\" if torch.cuda.is_available() else \"cpu\")\n"
      ]
    },
    {
      "cell_type": "markdown",
      "metadata": {
        "id": "ZOdTOnGsd0Bu"
      },
      "source": [
        "# Introduction to GANs\n",
        "\n",
        "In this notebook you will build a GAN from scratch, grossly following the DCGAN architecture. \n",
        "\n",
        "**Goals:**\n",
        "\n",
        "\n",
        "1.   Build a GAN arhictecture from scratch\n",
        "2.   Write the GAN loss function and train GAN from scratch\n",
        "3.   Have experience with some of the instability problems inherent with training GANs.\n",
        "4.   [Bonus] Extend the unconditional GAN into a conditional GAN. \n",
        "\n"
      ]
    },
    {
      "cell_type": "markdown",
      "metadata": {
        "id": "uE0sMnZJdyhi"
      },
      "source": [
        "## 1. Getting Started\n",
        "\n",
        "We will work with the [MNIST](http://yann.lecun.com/exdb/mnist/) dataset. It contains 60,000 images size 28x28 of handwritten digits, from 0 to 9."
      ]
    },
    {
      "cell_type": "markdown",
      "metadata": {
        "id": "eljyV8Kqvlv1"
      },
      "source": [
        "## 1. Dataloading\n",
        "\n",
        "### 1.1 Define some hyperparameters and transforms\n"
      ]
    },
    {
      "cell_type": "code",
      "execution_count": null,
      "metadata": {
        "colab": {
          "base_uri": "https://localhost:8080/",
          "height": 423,
          "referenced_widgets": [
            "b0d3efbdea6644a4b603714b4f9f334a",
            "6931368ce83c43f9b81d0d477c772854",
            "4edeac1f6aec4e43ad0ebda56175c6d1",
            "dc02750cffa44e93a198319a944d7888",
            "aa08f9ca34eb4a798e942c2bde30f277",
            "b647f64834664608b60ac214aa26de5a",
            "dbcd310a3bf0443082683a8291a500c9",
            "c60ec045f54344ed96329d1679745e37",
            "2a05f6db0c4447c3adb9f30b1580a4e0",
            "011e839eab2040fcaf3ecf8d785b6e40",
            "95f83512d9ce4250b7e5750c8fa4b6da",
            "edee30da8a674e748f45b693d3b0074a",
            "cc2727dc8136438f88c77e1a4cde3197",
            "c6539cb3de444c319691f310a13d914c",
            "9c0045c84bd747949ff75162fc569ef4",
            "b5f655fd0a3c424382ecd885b715b23d",
            "030a14be412d4146a39e9037ce95cdbd",
            "bae40d01488c4fff829b3e87db11a232",
            "ac00258e5b754af7a48e450ad8403fcb",
            "9ac8d8ddffd54f729797cb59b555e6c5",
            "3f42c5ea2b7a40e9b00e2c8babac8670",
            "59dffed4123a4740a12f54b0803eb8a5",
            "3d0961b17c904ffea31fbcbde3236a72",
            "71ff51cda1a8423f97218d03ff90f79b",
            "e3aac1e8cff04bf4979ad1c6a56f6d3b",
            "1a4e0a96930e423e9b532b12b1c7b9db",
            "365f5ddd719740429eb4450cbb1b5d67",
            "db41d56cad924fbfadd622824fab29d1",
            "7dec13fa0ea94b1cbbd001cf1e31f861",
            "cdccf389bb4044e8a39bd52eae36c7bc",
            "b6b355d3cb504aedbe6c789f6a22786d",
            "551ec1d3d0a84245808bec5e54da9f7d",
            "348dfcd7f68c4e549b03fe81489131e0",
            "4e5097d5794e481385cbb8f119b15f85",
            "e9ef49b839cc4395bdd5a5f074f121fd",
            "74ed4594129d47fb87eecec9d7c801ac",
            "e1345152e9c6477491727bcca49c4779",
            "2472e186ac6a4338946b50f2811da549",
            "befb1c2c63a0461ebd24dddf8baf9f8d",
            "1e6670cd868442d1b721b155c78fec4d",
            "5ab8624d9edc4e9795764ae92e0f94ef",
            "371af3326d2d41f7b4c2984ea0d6c1ad",
            "f9f217a2b0bd47b6aab6762b0b1dac35",
            "b9fd6be738ee456784d112c4ad609802"
          ]
        },
        "id": "bKoR9odDihPu",
        "outputId": "0ef824e6-c7e2-4d08-877f-7ce9b8b0a9b3"
      },
      "outputs": [
        {
          "output_type": "stream",
          "name": "stdout",
          "text": [
            "Downloading http://yann.lecun.com/exdb/mnist/train-images-idx3-ubyte.gz\n",
            "Downloading http://yann.lecun.com/exdb/mnist/train-images-idx3-ubyte.gz to ./MNIST/raw/train-images-idx3-ubyte.gz\n"
          ]
        },
        {
          "output_type": "display_data",
          "data": {
            "application/vnd.jupyter.widget-view+json": {
              "model_id": "b0d3efbdea6644a4b603714b4f9f334a",
              "version_minor": 0,
              "version_major": 2
            },
            "text/plain": [
              "  0%|          | 0/9912422 [00:00<?, ?it/s]"
            ]
          },
          "metadata": {}
        },
        {
          "output_type": "stream",
          "name": "stdout",
          "text": [
            "Extracting ./MNIST/raw/train-images-idx3-ubyte.gz to ./MNIST/raw\n",
            "\n",
            "Downloading http://yann.lecun.com/exdb/mnist/train-labels-idx1-ubyte.gz\n",
            "Downloading http://yann.lecun.com/exdb/mnist/train-labels-idx1-ubyte.gz to ./MNIST/raw/train-labels-idx1-ubyte.gz\n"
          ]
        },
        {
          "output_type": "display_data",
          "data": {
            "application/vnd.jupyter.widget-view+json": {
              "model_id": "edee30da8a674e748f45b693d3b0074a",
              "version_minor": 0,
              "version_major": 2
            },
            "text/plain": [
              "  0%|          | 0/28881 [00:00<?, ?it/s]"
            ]
          },
          "metadata": {}
        },
        {
          "output_type": "stream",
          "name": "stdout",
          "text": [
            "Extracting ./MNIST/raw/train-labels-idx1-ubyte.gz to ./MNIST/raw\n",
            "\n",
            "Downloading http://yann.lecun.com/exdb/mnist/t10k-images-idx3-ubyte.gz\n",
            "Downloading http://yann.lecun.com/exdb/mnist/t10k-images-idx3-ubyte.gz to ./MNIST/raw/t10k-images-idx3-ubyte.gz\n"
          ]
        },
        {
          "output_type": "display_data",
          "data": {
            "application/vnd.jupyter.widget-view+json": {
              "model_id": "3d0961b17c904ffea31fbcbde3236a72",
              "version_minor": 0,
              "version_major": 2
            },
            "text/plain": [
              "  0%|          | 0/1648877 [00:00<?, ?it/s]"
            ]
          },
          "metadata": {}
        },
        {
          "output_type": "stream",
          "name": "stdout",
          "text": [
            "Extracting ./MNIST/raw/t10k-images-idx3-ubyte.gz to ./MNIST/raw\n",
            "\n",
            "Downloading http://yann.lecun.com/exdb/mnist/t10k-labels-idx1-ubyte.gz\n",
            "Downloading http://yann.lecun.com/exdb/mnist/t10k-labels-idx1-ubyte.gz to ./MNIST/raw/t10k-labels-idx1-ubyte.gz\n"
          ]
        },
        {
          "output_type": "display_data",
          "data": {
            "application/vnd.jupyter.widget-view+json": {
              "model_id": "4e5097d5794e481385cbb8f119b15f85",
              "version_minor": 0,
              "version_major": 2
            },
            "text/plain": [
              "  0%|          | 0/4542 [00:00<?, ?it/s]"
            ]
          },
          "metadata": {}
        },
        {
          "output_type": "stream",
          "name": "stdout",
          "text": [
            "Extracting ./MNIST/raw/t10k-labels-idx1-ubyte.gz to ./MNIST/raw\n",
            "\n"
          ]
        }
      ],
      "source": [
        "batch_size = 128 # Images per batch\n",
        "\n",
        "# Resize to 32x32 for easier upsampling/downsampling\n",
        "mytransform = transforms.Compose([transforms.Resize(32),\n",
        "                                  transforms.ToTensor(),\n",
        "                                 transforms.Normalize((.5), (.5))]) # normalize between [-1, 1] with tanh activation\n",
        "\n",
        "mnist_train = torchvision.datasets.MNIST(root='.', download=True, transform=mytransform)"
      ]
    },
    {
      "cell_type": "code",
      "execution_count": null,
      "metadata": {
        "id": "6fyx7D9SjLRl"
      },
      "outputs": [],
      "source": [
        "dataloader = DataLoader(dataset=mnist_train, \n",
        "                         batch_size=batch_size,\n",
        "                         shuffle=True)    "
      ]
    },
    {
      "cell_type": "code",
      "execution_count": null,
      "metadata": {
        "id": "XZjhs971tkUD"
      },
      "outputs": [],
      "source": [
        "# plot some images\n",
        "real_batch, real_labels = next(iter(dataloader))"
      ]
    },
    {
      "cell_type": "code",
      "execution_count": null,
      "metadata": {
        "colab": {
          "base_uri": "https://localhost:8080/",
          "height": 286
        },
        "id": "rteQwXBRwIHK",
        "outputId": "a624f619-67f4-401f-85d6-6941dd3c1eab"
      },
      "outputs": [
        {
          "output_type": "execute_result",
          "data": {
            "text/plain": [
              "<matplotlib.image.AxesImage at 0x7f24c23614d0>"
            ]
          },
          "metadata": {},
          "execution_count": 5
        },
        {
          "output_type": "display_data",
          "data": {
            "image/png": "[encoded data removed]",
            "text/plain": [
              "<Figure size 432x288 with 1 Axes>"
            ]
          },
          "metadata": {
            "needs_background": "light"
          }
        }
      ],
      "source": [
        "plt.imshow(transforms.ToPILImage()(make_grid(real_batch)))"
      ]
    },
    {
      "cell_type": "markdown",
      "metadata": {
        "id": "HiqEo_eQe6mH"
      },
      "source": [
        "## 2. Model Architecture\n",
        "\n",
        "We will follow the general architecture of a DCGAN - or deep convolutional GAN. This [influential paper](https://arxiv.org/pdf/1511.06434v2.pdf) produced much of the foundation for modern GANs and how to train them.\n",
        "\n",
        "(GANs are notoriously **hard** to train, we will try to get a feeling why in this notebook.)\n"
      ]
    },
    {
      "cell_type": "markdown",
      "metadata": {
        "id": "0fbtsFUJJvAo"
      },
      "source": [
        "Complete the function `get_upscaling_block`. Then, use the function to define our model defined as follows:\n",
        "\n",
        "Input: Random \"noise\" $z$ shaped `[n_batch, n_z]`\n",
        "\n",
        "Output: Generated image size `[n_batch, 1, 32, 32]` in range [-1, 1]\n",
        "\n",
        "1. Reshape z into `[n_batch, n_z, 1, 1]` to make it into an \"image\"\n",
        "2. First upscaling block $\\rightarrow$ `[n_batch, ngf*4, 4, 4]`\n",
        "3. Second upscaling block $\\rightarrow$ `[n_batch, ngf*2, 8, 8]`\n",
        "4. Third upscaling block $\\rightarrow$ `[n_batch, ngf, 16, 16]`\n",
        "5. Fourth (and last) upscaling block $\\rightarrow$ `[n_batch, 1, 32, 32]`"
      ]
    },
    {
      "cell_type": "markdown",
      "metadata": {
        "id": "zSFr3RbOfOwP"
      },
      "source": [
        "## 2.1. The Generator\n",
        "\n",
        "\n",
        "\n",
        "The generator performs subsequent upsampling blocks, transforming a latent vector shaped [batch_size, latent_size] into an image (values in [-1, 1]).\n",
        "\n",
        "The generator block will consists of:\n",
        "- Transpose Convolution\n",
        "- Batch Norm \n",
        "- ReLU"
      ]
    },
    {
      "cell_type": "code",
      "execution_count": null,
      "metadata": {
        "colab": {
          "background_save": true
        },
        "id": "Tdr4uE1tKhQt"
      },
      "outputs": [],
      "source": [
        "def get_upscaling_block(channels_in, channels_out, kernel, stride, padding, last_layer=False):\n",
        "    '''\n",
        "    Each transpose conv will be followed by BatchNorm and ReLU, \n",
        "    except the last block (which is only followed by tanh)\n",
        "    '''\n",
        "    if last_layer:\n",
        "        ###################\n",
        "        #                 #\n",
        "        # YOUR CODE HERE  #\n",
        "        #                 #\n",
        "        ###################\n",
        "        return \n",
        "    else:\n",
        "        ###################\n",
        "        #                 #\n",
        "        # YOUR CODE HERE  #\n",
        "        #                 #\n",
        "        ###################\n",
        "\n",
        "\n",
        "\n",
        "\n",
        "\n",
        "class Generator(nn.Module):\n",
        "    def __init__(self, nz, ngf, nchannels=1):\n",
        "        '''\n",
        "        nz: The latent size (100 in our case)\n",
        "        ngf: The channel-size before the last layer (32 our case)\n",
        "        '''\n",
        "        super().__init__()\n",
        "        \n",
        "        ###################\n",
        "        #                 #\n",
        "        # YOUR CODE HERE  #\n",
        "        #                 #\n",
        "        \n",
        "        self.model = nn.Sequential()\n",
        "        \n",
        "        ###################\n",
        "        \n",
        "    def forward(self, z):\n",
        "        x = z.unsqueeze(2).unsqueeze(2) # give spatial dimensions to z\n",
        "        return self.model(x)\n",
        "        "
      ]
    },
    {
      "cell_type": "markdown",
      "metadata": {
        "id": "sfyB-3_nSO_U"
      },
      "source": [
        "### 2.1.3. Sanity Tests"
      ]
    },
    {
      "cell_type": "code",
      "execution_count": null,
      "metadata": {
        "colab": {
          "background_save": true
        },
        "id": "TqIU5cq_Sb3R"
      },
      "outputs": [],
      "source": [
        "nz = 1000\n",
        "z = torch.randn(batch_size, nz)"
      ]
    },
    {
      "cell_type": "code",
      "execution_count": null,
      "metadata": {
        "colab": {
          "background_save": true
        },
        "id": "WoVw0MHUGMZY",
        "outputId": "7483483d-ed06-4012-c30b-d9c649dfac79"
      },
      "outputs": [
        {
          "ename": "TypeError",
          "evalue": "ignored",
          "output_type": "error",
          "traceback": [
            "\u001b[0;31m---------------------------------------------------------------------------\u001b[0m",
            "\u001b[0;31mTypeError\u001b[0m                                 Traceback (most recent call last)",
            "\u001b[0;32m<ipython-input-8-430f9614284b>\u001b[0m in \u001b[0;36m<module>\u001b[0;34m()\u001b[0m\n\u001b[0;32m----> 1\u001b[0;31m \u001b[0mG\u001b[0m \u001b[0;34m=\u001b[0m \u001b[0mGenerator\u001b[0m\u001b[0;34m(\u001b[0m\u001b[0mnz\u001b[0m\u001b[0;34m=\u001b[0m\u001b[0mnz\u001b[0m\u001b[0;34m,\u001b[0m \u001b[0mngf\u001b[0m\u001b[0;34m=\u001b[0m\u001b[0;36m16\u001b[0m\u001b[0;34m)\u001b[0m\u001b[0;34m\u001b[0m\u001b[0;34m\u001b[0m\u001b[0m\n\u001b[0m\u001b[1;32m      2\u001b[0m \u001b[0;32massert\u001b[0m \u001b[0mG\u001b[0m\u001b[0;34m(\u001b[0m\u001b[0mz\u001b[0m\u001b[0;34m)\u001b[0m\u001b[0;34m.\u001b[0m\u001b[0mshape\u001b[0m \u001b[0;34m==\u001b[0m \u001b[0;34m(\u001b[0m\u001b[0mbatch_size\u001b[0m\u001b[0;34m,\u001b[0m \u001b[0;36m1\u001b[0m\u001b[0;34m,\u001b[0m \u001b[0;36m32\u001b[0m\u001b[0;34m,\u001b[0m \u001b[0;36m32\u001b[0m\u001b[0;34m)\u001b[0m\u001b[0;34m\u001b[0m\u001b[0;34m\u001b[0m\u001b[0m\n\u001b[1;32m      3\u001b[0m \u001b[0;34m\u001b[0m\u001b[0m\n\u001b[1;32m      4\u001b[0m \u001b[0mG\u001b[0m \u001b[0;34m=\u001b[0m \u001b[0mGenerator\u001b[0m\u001b[0;34m(\u001b[0m\u001b[0mnz\u001b[0m\u001b[0;34m=\u001b[0m\u001b[0mnz\u001b[0m\u001b[0;34m,\u001b[0m \u001b[0mngf\u001b[0m\u001b[0;34m=\u001b[0m\u001b[0;36m16\u001b[0m\u001b[0;34m)\u001b[0m\u001b[0;34m\u001b[0m\u001b[0;34m\u001b[0m\u001b[0m\n\u001b[1;32m      5\u001b[0m \u001b[0;32massert\u001b[0m \u001b[0mG\u001b[0m\u001b[0;34m(\u001b[0m\u001b[0mz\u001b[0m\u001b[0;34m)\u001b[0m\u001b[0;34m.\u001b[0m\u001b[0mshape\u001b[0m \u001b[0;34m==\u001b[0m \u001b[0;34m(\u001b[0m\u001b[0mbatch_size\u001b[0m\u001b[0;34m,\u001b[0m \u001b[0;36m1\u001b[0m\u001b[0;34m,\u001b[0m \u001b[0;36m32\u001b[0m\u001b[0;34m,\u001b[0m \u001b[0;36m32\u001b[0m\u001b[0;34m)\u001b[0m\u001b[0;34m\u001b[0m\u001b[0;34m\u001b[0m\u001b[0m\n",
            "\u001b[0;32m<ipython-input-6-85864f43b314>\u001b[0m in \u001b[0;36m__init__\u001b[0;34m(self, nz, ngf, nchannels)\u001b[0m\n\u001b[1;32m     25\u001b[0m         '''\n\u001b[1;32m     26\u001b[0m         \u001b[0msuper\u001b[0m\u001b[0;34m(\u001b[0m\u001b[0;34m)\u001b[0m\u001b[0;34m.\u001b[0m\u001b[0m__init__\u001b[0m\u001b[0;34m(\u001b[0m\u001b[0;34m)\u001b[0m\u001b[0;34m\u001b[0m\u001b[0;34m\u001b[0m\u001b[0m\n\u001b[0;32m---> 27\u001b[0;31m         self.model = nn.Sequential(get_upscaling_block(channels_in=nz, channels_out= ngf*4, kernel=4, stride=1, padding=0),\n\u001b[0m\u001b[1;32m     28\u001b[0m                                    \u001b[0mget_upscaling_block\u001b[0m\u001b[0;34m(\u001b[0m\u001b[0mchannels_in\u001b[0m\u001b[0;34m=\u001b[0m\u001b[0mngf\u001b[0m\u001b[0;34m*\u001b[0m\u001b[0;36m4\u001b[0m\u001b[0;34m,\u001b[0m \u001b[0mchannels_out\u001b[0m\u001b[0;34m=\u001b[0m \u001b[0mngf\u001b[0m\u001b[0;34m*\u001b[0m\u001b[0;36m2\u001b[0m\u001b[0;34m,\u001b[0m \u001b[0mkernel\u001b[0m\u001b[0;34m=\u001b[0m\u001b[0;36m4\u001b[0m\u001b[0;34m,\u001b[0m \u001b[0mstride\u001b[0m\u001b[0;34m=\u001b[0m\u001b[0;36m2\u001b[0m\u001b[0;34m,\u001b[0m \u001b[0mpadding\u001b[0m\u001b[0;34m=\u001b[0m\u001b[0;36m1\u001b[0m\u001b[0;34m)\u001b[0m\u001b[0;34m,\u001b[0m\u001b[0;34m\u001b[0m\u001b[0;34m\u001b[0m\u001b[0m\n\u001b[1;32m     29\u001b[0m                                    \u001b[0mget_upscaling_block\u001b[0m\u001b[0;34m(\u001b[0m\u001b[0mchannels_in\u001b[0m\u001b[0;34m=\u001b[0m\u001b[0mngf\u001b[0m\u001b[0;34m*\u001b[0m\u001b[0;36m2\u001b[0m\u001b[0;34m,\u001b[0m \u001b[0mchannels_out\u001b[0m\u001b[0;34m=\u001b[0m \u001b[0mngf\u001b[0m\u001b[0;34m,\u001b[0m \u001b[0mkernel\u001b[0m\u001b[0;34m=\u001b[0m\u001b[0;36m4\u001b[0m\u001b[0;34m,\u001b[0m \u001b[0mstride\u001b[0m\u001b[0;34m=\u001b[0m\u001b[0;36m2\u001b[0m\u001b[0;34m,\u001b[0m \u001b[0mpadding\u001b[0m\u001b[0;34m=\u001b[0m\u001b[0;36m1\u001b[0m\u001b[0;34m)\u001b[0m\u001b[0;34m,\u001b[0m\u001b[0;34m\u001b[0m\u001b[0;34m\u001b[0m\u001b[0m\n",
            "\u001b[0;32m<ipython-input-6-85864f43b314>\u001b[0m in \u001b[0;36mget_upscaling_block\u001b[0;34m(channels_in, channels_out, kernel, stride, padding, last_layer)\u001b[0m\n\u001b[1;32m     13\u001b[0m             nn.ConvTranspose2d(channels_in, channels_out, kernel_size=kernel, stride=stride, padding=padding,\n\u001b[1;32m     14\u001b[0m                                bias=False),\n\u001b[0;32m---> 15\u001b[0;31m             \u001b[0mnn\u001b[0m\u001b[0;34m.\u001b[0m\u001b[0mBatchNorm2d\u001b[0m\u001b[0;34m(\u001b[0m\u001b[0;34m)\u001b[0m\u001b[0;34m,\u001b[0m\u001b[0;34m\u001b[0m\u001b[0;34m\u001b[0m\u001b[0m\n\u001b[0m\u001b[1;32m     16\u001b[0m             nn.Tanh())\n\u001b[1;32m     17\u001b[0m         \u001b[0;32mreturn\u001b[0m \u001b[0mblock\u001b[0m\u001b[0;34m\u001b[0m\u001b[0;34m\u001b[0m\u001b[0m\n",
            "\u001b[0;31mTypeError\u001b[0m: __init__() missing 1 required positional argument: 'num_features'"
          ]
        }
      ],
      "source": [
        "G = Generator(nz=nz, ngf=16)\n",
        "assert G(z).shape == (batch_size, 1, 32, 32)\n",
        "\n",
        "G = Generator(nz=nz, ngf=16)\n",
        "assert G(z).shape == (batch_size, 1, 32, 32)"
      ]
    },
    {
      "cell_type": "code",
      "execution_count": null,
      "metadata": {
        "id": "iKlItI1IStKh"
      },
      "outputs": [],
      "source": [
        "# visualize the output - at first it should just look like random noise!!\n",
        "x_fake = G(z)\n",
        "plt.imshow(transforms.ToPILImage()(make_grid(x_fake, nrow=8)))"
      ]
    },
    {
      "cell_type": "markdown",
      "metadata": {
        "id": "nW2OL64HUqdy"
      },
      "source": [
        "## 2.2. The discriminator\n",
        "\n",
        "The discriminator will be a mirror image of the generator. "
      ]
    },
    {
      "cell_type": "markdown",
      "metadata": {
        "id": "4XhpkIjniEJI"
      },
      "source": [
        "The discriminator will also use a fully convolutional architecutre, with each block consisting of:\n",
        "- Conv layer\n",
        "- BatchNorm\n",
        "- ReLU\n",
        "\n",
        "Complete the function `get_downscaling_block` and then use it to define the following architecture for the discriminator:\n",
        "\n",
        "Input: Image shaped `[n_batch, 1, 32, 32]` (in [-1, 1])\n",
        "Output: Discriminator scores `[n_batch, 1]` in range [0, 1]\n",
        "\n",
        "1. First downscaling block $\\rightarrow$ `[n_batch, ndf, 16, 16]`\n",
        "2. Second downscaling block $\\rightarrow$ `[n_batch, ndf*2, 8, 8]`\n",
        "3. Third downscaling block $\\rightarrow$ `[n_batch, ndf*4, 4, 4]`\n",
        "4. Last downscaling block $\\rightarrow$ `[n_batch, 1]` "
      ]
    },
    {
      "cell_type": "code",
      "execution_count": null,
      "metadata": {
        "id": "JHGPKZYShDW-"
      },
      "outputs": [],
      "source": [
        "def get_downscaling_block(channels_in, channels_out, kernel, stride, padding, use_batch_norm=True, is_last=False):\n",
        "    \n",
        "    if is_last:\n",
        "        ###################\n",
        "        #                 #\n",
        "        # YOUR CODE HERE  #\n",
        "        #                 #\n",
        "        ###################\n",
        "    \n",
        "    elif not use_batch_norm:\n",
        "        ###################\n",
        "        #                 #\n",
        "        # YOUR CODE HERE  #\n",
        "        #                 #\n",
        "        ###################\n",
        "    \n",
        "    else:\n",
        "        ###################\n",
        "        #                 #\n",
        "        # YOUR CODE HERE  #\n",
        "        #                 #\n",
        "        ###################\n",
        "    \n",
        "    \n",
        "\n",
        "\n",
        "class Discriminator(nn.Module):\n",
        "    def __init__(self, ndf, nchannels=1):\n",
        "        super().__init__()\n",
        "        \n",
        "        ###################\n",
        "        #                 #\n",
        "        # YOUR CODE HERE  #\n",
        "        \n",
        "        self.model = \n",
        "        \n",
        "        #                 #\n",
        "        ###################\n",
        "\n",
        "    def forward(self, x):\n",
        "        return self.model(x).squeeze(1).squeeze(1) # remove spatial dimensions"
      ]
    },
    {
      "cell_type": "markdown",
      "metadata": {
        "id": "OGzrUeMJkWCR"
      },
      "source": [
        "### 2.2.3 Sanity Checking"
      ]
    },
    {
      "cell_type": "code",
      "execution_count": null,
      "metadata": {
        "id": "_UQyIgSykUgU"
      },
      "outputs": [],
      "source": [
        "real_batch, real_labels = next(iter(dataloader))"
      ]
    },
    {
      "cell_type": "code",
      "execution_count": null,
      "metadata": {
        "id": "CmtSAI81kuhS"
      },
      "outputs": [],
      "source": [
        "D = Discriminator(ndf=32, nchannels=1)\n",
        "assert D(real_batch).shape == (real_batch.shape[0], 1)"
      ]
    },
    {
      "cell_type": "markdown",
      "metadata": {
        "id": "skKGHErnmo70"
      },
      "source": [
        "# 3. Training\n",
        "\n",
        "## 3.1 Loss \n",
        "The essential thing to remember is that the logistic and the non-saturating logistic GAN losses can be written exclusively using the [binary cross entropy loss](https://pytorch.org/docs/stable/generated/torch.nn.BCELoss.html). Our GAN loss will be defined ONLY using the following criterion:\n",
        "\n"
      ]
    },
    {
      "cell_type": "code",
      "execution_count": null,
      "metadata": {
        "id": "_pWhEANEmoPM"
      },
      "outputs": [],
      "source": [
        "criterion = nn.BCELoss() # we will build off of this to make our final GAN loss!"
      ]
    },
    {
      "cell_type": "markdown",
      "metadata": {
        "id": "umYgNJN2rl2Y"
      },
      "source": [
        "## 3.2 Helper functions\n",
        "\n",
        "We will need a few helper functions. \n",
        "1. First, we need to continuously sample z from a Gaussian distribution. \n",
        "2. Secondly, we need to make our \"ground-truth\" labels when using the BCE loss. This should output vectors of either 0s or 1s. "
      ]
    },
    {
      "cell_type": "code",
      "execution_count": null,
      "metadata": {
        "id": "Y9XYCOrbngJF"
      },
      "outputs": [],
      "source": [
        "def sample_z(batch_size, nz):\n",
        "    return torch.randn(batch_size, nz, device=device)\n",
        "\n",
        "# this is for the real ground-truth label\n",
        "def get_labels_one(batch_size):\n",
        "    r = torch.ones(batch_size, 1)\n",
        "    return r.to(device)\n",
        "\n",
        "# this is for the generated ground-truth label\n",
        "def get_labels_zero(batch_size):\n",
        "    r = torch.zeros(batch_size, 1) \n",
        "    return r.to(device)\n",
        "\n",
        "\n",
        "# To initialize the weights of a GAN, the DCGAN paper found that best results are obtained\n",
        "# with Gaussian initialization with mean=0; std=0.02\n",
        "def weights_init(m):\n",
        "    classname = m.__class__.__name__\n",
        "    if classname.find('Conv') != -1:\n",
        "        nn.init.normal_(m.weight.data, 0.0, 0.02)\n",
        "    elif classname.find('BatchNorm') != -1:\n",
        "        nn.init.normal_(m.weight.data, 1.0, 0.02)\n",
        "        nn.init.constant_(m.bias.data, 0)\n",
        "        \n",
        "\n",
        "# for visualization\n",
        "to_pil = transforms.ToPILImage()\n",
        "renorm = transforms.Normalize((-1.), (2.))"
      ]
    },
    {
      "cell_type": "markdown",
      "metadata": {
        "id": "7rxgJpPynsNz"
      },
      "source": [
        "## 3.3 Creating the optimizers and hyperparameters\n",
        "\n",
        "The original DCGAN paper shows that Adam works well in the generator and the discriminator with a learning rate of 0.0002 and Beta1 = 0.5.\n",
        "\n",
        "Define your optimizers"
      ]
    },
    {
      "cell_type": "code",
      "execution_count": null,
      "metadata": {
        "id": "uDTs6bGfnrP8"
      },
      "outputs": [],
      "source": [
        "nz = 100\n",
        "ngf = 32\n",
        "ndf = 32\n",
        "\n",
        "nchannels= 1 \n",
        "lr_d = 0.0002\n",
        "lr_g = 0.0005\n",
        "beta1= 0.5\n",
        "display_freq = 200\n",
        "\n",
        "netD = Discriminator(ndf, nchannels).to(device)\n",
        "netG = Generator(nz, ngf).to(device)\n",
        "\n",
        "netD.apply(weights_init)\n",
        "netG.apply(weights_init)\n",
        "\n",
        "g_opt = torch.optim.Adam(netG.parameters(), lr=lr_g, betas=(beta1, 0.999))\n",
        "d_opt = torch.optim.Adam(netD.parameters(), lr=lr_d, betas=(beta1, 0.999))\n"
      ]
    },
    {
      "cell_type": "markdown",
      "metadata": {
        "id": "kaE6o8Z2uBza"
      },
      "source": [
        "## 3.3 Training!\n",
        "\n",
        "Now for the fun part, training! \n",
        "Training a GAN consists in making an update to the discriminator, then the generator.\n",
        "Training a GAN requires BABYSITTING!! Remember that many things can go wrong when training a GAN:\n",
        "- The discriminator is too strong for the generator - the generator cannot improve. \n",
        "- The generator easily fools the discriminator - cannot learn.\n",
        "- Mode collapse - generator is not capable of generating diverse images."
      ]
    },
    {
      "cell_type": "code",
      "execution_count": null,
      "metadata": {
        "id": "Jy03mvvmuBMo"
      },
      "outputs": [],
      "source": [
        "nb_epochs = 5\n",
        "\n",
        "g_losses = []\n",
        "d_losses = []\n",
        "\n",
        "\n",
        "j = 0\n",
        "\n",
        "\n",
        "z_test = sample_z(64, nz) # we generate the noise only once for testing\n",
        "\n",
        "for epoch in range(nb_epochs):\n",
        "    \n",
        "    # train\n",
        "    pbar = tqdm(enumerate(dataloader))\n",
        "    for i, batch in pbar:\n",
        "        im, _ = batch # we don't care about the label for unconditional generation\n",
        "        im = im.to(device)\n",
        "        \n",
        "        cur_batch_size = im.shape[0]  \n",
        "        \n",
        "        \n",
        "        ###################\n",
        "        #                 #\n",
        "        # YOUR CODE HERE  #\n",
        "        #                 #\n",
        "        ###################\n",
        "        \n",
        "        # 1. sample a z vector \n",
        "        z = sample_z(100, )\n",
        "        # 2. Generate a fake image\n",
        "        fake_im = G(z)\n",
        "        # 3. Classify real image with D\n",
        "        real_out = D(im)\n",
        "        # 4. Classify fake image with D\n",
        "        fake_out = D(fake_im.detach())\n",
        "\n",
        "        \n",
        "        \n",
        "        ###\n",
        "        ### Discriminator\n",
        "        ###\n",
        "        \n",
        "        d_loss = criterion(real_out, 1) + criterion(fake_out, 0)#     YOUR CODE HERE\n",
        "        d_opt.zero_grad()\n",
        "        d_loss.backward(retain_graph=True) # we need to retain graph=True to be able to calculate the gradient in the g backprop\n",
        "        d_opt.step()\n",
        "\n",
        "        \n",
        "        ###\n",
        "        ### Generator\n",
        "        ###\n",
        "      \n",
        "        out_fake_D = D(fake_im)\n",
        "        \n",
        "        g_loss = criterion(fake_out, 1)#      YOUR CODE HERE\n",
        "        g_opt.zero_grad()\n",
        "        g_loss.backward()\n",
        "        g_opt.step()\n",
        "        \n",
        "        \n",
        "        # Save Metrics\n",
        "        \n",
        "        d_losses.append(d_loss.item())\n",
        "        g_losses.append(g_loss.item())\n",
        "        \n",
        "        avg_real_score = yhat_real.mean().item()\n",
        "        avg_fake_score = yhat_fake.mean().item()\n",
        "\n",
        "\n",
        "\n",
        "        pbar.set_description(f\"it: {j}; g_loss: {g_loss}; d_loss: {d_loss}; avg_real_score: {avg_real_score}; avg_fake_score: {avg_fake_score}\")\n",
        "        if i % display_freq == 0:\n",
        "\n",
        "            fake_im = G(z_test)\n",
        "            \n",
        "            un_norm = renorm(fake_im) # for visualization\n",
        "            \n",
        "            grid = torchvision.utils.make_grid(un_norm, nrow=8)\n",
        "            pil_grid = to_pil(grid)  \n",
        "            \n",
        "            print(\"generated images\")\n",
        "            plt.imshow(pil_grid)\n",
        "            plt.show()\n",
        "            \n",
        "            plt.plot(range(len(g_losses)), g_losses, label='g loss')\n",
        "            plt.plot(range(len(g_losses)), d_losses, label='d loss')\n",
        "            \n",
        "            plt.legend()\n",
        "            plt.show()\n",
        "            \n",
        "        j += 1"
      ]
    },
    {
      "cell_type": "markdown",
      "metadata": {
        "id": "sp2kL5GZxC4K"
      },
      "source": [
        "# 4. Conditional GANs [BONUS]\n",
        "\n",
        "A simple way to improve training performance and obtain control of the generation is to provide extra information into the Generator and the Discriminator, known as **Conditional GANs**. In this case, we will provide the class label (digit number of MNIST) into both the generator and the discriminator. This will help both of the networks."
      ]
    },
    {
      "cell_type": "markdown",
      "metadata": {
        "id": "XeUMj-oKd7yI"
      },
      "source": [
        "## 4.1 Conditional Generator and Discriminator\n",
        "\n",
        "Complete the ConditionalDiscriminator and ConditionalGenerator classes using your GAN building blocks (`get_upsampling_block` and `get_downsampling_block` functions).\n"
      ]
    },
    {
      "cell_type": "markdown",
      "metadata": {
        "id": "fYr7d0GTf6in"
      },
      "source": [
        "### 4.1.1 Generator"
      ]
    },
    {
      "cell_type": "code",
      "execution_count": null,
      "metadata": {
        "id": "7We6x1vZfXFi"
      },
      "outputs": [],
      "source": [
        "# GENERATOR\n",
        "\n",
        "'''\n",
        "The conditional generator needs the label information as well as the latent vector. We will combine the latent vector and the class information in the following way:\n",
        "\n",
        "- The class information for the generator will be represented as a one-hot vector sized `[batch_size, 10]` (since there are 10 classes in MNIST)\n",
        "- The latent vector for the generator will still be sized `[batch_size, nz]`\n",
        "\n",
        "1. Transform both of these modalities into 'images' (by adding dimensions)\n",
        "2. Like before, apply the first upscaling block to both of these 'images'. We will now have 2 separate blocks sized \n",
        "\n",
        "'''\n",
        "\n",
        "class ConditionalGenerator(nn.Module):\n",
        "    def __init__(self, nz, nc, ngf, nchannels=1):\n",
        "        super().__init__()\n",
        "        \n",
        "        self.upscaling_z = get_upscaling_block(nz, ngf*8, 4, 1, 0)\n",
        "        self.upscaling_c = get_upscaling_block(nc, ngf*8, 4, 1, 0)\n",
        "        \n",
        "        ###################\n",
        "        #                 #\n",
        "        # YOUR CODE HERE  #\n",
        "        #                 #\n",
        "        self.rest_model = \n",
        "        \n",
        "        ###################\n",
        "        \n",
        "    def forward(self, x, y):\n",
        "        x = x.unsqueeze(2).unsqueeze(2)\n",
        "        y = y.unsqueeze(2).unsqueeze(2)\n",
        "        \n",
        "        ###################\n",
        "        #                 #\n",
        "        # YOUR CODE HERE  #\n",
        "        #                 #\n",
        "        ###################\n",
        "        \n",
        "        return self.rest_model(x)"
      ]
    },
    {
      "cell_type": "markdown",
      "metadata": {
        "id": "bNgw9wbff-Dr"
      },
      "source": [
        "### 4.1.2 Discriminator"
      ]
    },
    {
      "cell_type": "code",
      "execution_count": null,
      "metadata": {
        "id": "Q3S02w7Kfz1j"
      },
      "outputs": [],
      "source": [
        "# Discriminator\n",
        "\n",
        "'''\n",
        "The conditional discriminator needs the label information as well as the latent vector. We will combine the latent vector and the class information in the following way:\n",
        "\n",
        "- The class information for the discriminator will be represented as a one-hot vector sized `[batch_size, 10]` (since there are 10 classes in MNIST)\n",
        "- The latent vector for the generator will still be sized `[batch_size, nz]`\n",
        "\n",
        "1. Transform both of these modalities into 'images' (by adding dimensions)\n",
        "2. Like before, apply the first upscaling block to both of these 'images'. We will now have 2 separate blocks sized \n",
        "\n",
        "'''\n",
        "    \n",
        "class ConditionalDiscriminator(nn.Module):\n",
        "    def __init__(self, ndf, nc, nchannels=1):\n",
        "        super().__init__()\n",
        "        self.downscale_x = get_downscaling_block(nchannels, ndf*2, 4, 2, 1, use_batch_norm=False)\n",
        "        self.downscale_y = get_downscaling_block(nc, ndf*2, 4, 2, 1, use_batch_norm=False)\n",
        "        \n",
        "        ###################\n",
        "        #                 #\n",
        "        # YOUR CODE HERE  #\n",
        "        \n",
        "        self.rest = \n",
        "        \n",
        "        #                 #\n",
        "        ###################\n",
        "        \n",
        "    def forward(self, x, y):\n",
        "        ###################\n",
        "        #                 #\n",
        "        # YOUR CODE HERE  #\n",
        "        #                 #\n",
        "        ###################\n",
        "        \n",
        "        return self.rest(x).squeeze(1).squeeze(1) # remove spatial dimensions"
      ]
    },
    {
      "cell_type": "markdown",
      "metadata": {
        "id": "RA7nJF9SgDgt"
      },
      "source": [
        "### 4.1.3 Sanity Checks"
      ]
    },
    {
      "cell_type": "code",
      "execution_count": null,
      "metadata": {
        "id": "P1TbRNIqffip"
      },
      "outputs": [],
      "source": [
        "# CONDITIONAL GENERATOR SANITY CHECKING\n",
        "\n",
        "z = torch.randn(batch_size, nz)\n",
        "y = F.one_hot(real_labels).float()\n",
        "\n",
        "cG = ConditionalGenerator(nz=nz, ngf=16, nc=10)\n",
        "x_fake = cG(z, y)\n",
        "plt.imshow(transforms.ToPILImage()(make_grid(x_fake, nrow=8)))"
      ]
    },
    {
      "cell_type": "code",
      "execution_count": null,
      "metadata": {
        "id": "JlUn9fVUftdx"
      },
      "outputs": [],
      "source": [
        "# Conditional Discriminator Sanity Checking\n",
        "\n",
        "cD = ConditionalDiscriminator(ndf=32, nc=10, nchannels=1)\n",
        "assert cD(real_batch, F.one_hot(real_labels).float()).shape == (real_batch.shape[0], 1)"
      ]
    },
    {
      "cell_type": "markdown",
      "metadata": {
        "id": "EHFUef5bfVXD"
      },
      "source": [
        "## 4.2 Training"
      ]
    },
    {
      "cell_type": "code",
      "execution_count": null,
      "metadata": {
        "id": "8uY50uzNm9Bi"
      },
      "outputs": [],
      "source": [
        "nz = 100\n",
        "ndf = 32\n",
        "ngf = 32\n",
        "nchannels= 1 \n",
        "lr_d = 0.0002\n",
        "lr_g = 0.0005\n",
        "beta1= 0.5\n",
        "display_freq = 200\n",
        "\n",
        "nc= 10\n",
        "\n",
        "netD = ConditionalDiscriminator(ndf, nc, nchannels=1).to(device)\n",
        "netG = ConditionalGenerator(nz, nc, ngf).to(device)\n",
        "        \n",
        "netG.apply(weights_init)\n",
        "netD.apply(weights_init)\n",
        "\n",
        "g_opt = torch.optim.Adam(netG.parameters(), lr=lr_g, betas=(beta1, 0.999))\n",
        "d_opt = torch.optim.Adam(netD.parameters(), lr=lr_d, betas=(beta1, 0.999))\n",
        "\n"
      ]
    },
    {
      "cell_type": "code",
      "execution_count": null,
      "metadata": {
        "id": "MqiuCsSSm9Bi"
      },
      "outputs": [],
      "source": [
        "nb_epochs = 5\n",
        "\n",
        "g_losses = []\n",
        "d_losses = []\n",
        "\n",
        "j = 0\n",
        "\n",
        "z_test = sample_z(100, nz)  # we generate the noise only once for testing\n",
        "\n",
        "\n",
        "for epoch in range(nb_epochs):\n",
        "    \n",
        "    pbar = tqdm(enumerate(dataloader))\n",
        "    for i, batch in pbar:\n",
        "        im, labels = batch \n",
        "        im = im.to(device)\n",
        "        \n",
        "        \n",
        "        y = F.one_hot(labels).float().to(device)\n",
        "        \n",
        "        cur_batch_size = im.shape[0]  \n",
        "        \n",
        "        \n",
        "        ###################\n",
        "        #                 #\n",
        "        # YOUR CODE HERE  #\n",
        "        #                 #\n",
        "        ###################\n",
        "        \n",
        "        # 1. sample a z vector \n",
        "        \n",
        "        # 2. Generate a fake image\n",
        "       \n",
        "        # 3. Classify real image with D\n",
        "\n",
        "        # 4. Classify fake image with D\n",
        "        \n",
        "        \n",
        "        ###\n",
        "        ### Discriminator\n",
        "        ###\n",
        "        \n",
        "        d_loss = # YOUR CODE HERE\n",
        "        d_opt.zero_grad()\n",
        "        d_loss.backward(retain_graph=True) # we need to retain graph=True to be able to calculate the gradient in the g backprop\n",
        "        d_opt.step()\n",
        "        \n",
        "        \n",
        "        ###\n",
        "        ### Generator\n",
        "        ###\n",
        "        \n",
        "\n",
        "        g_loss = # YOUR CODE HERE\n",
        "        g_opt.zero_grad()\n",
        "        g_loss.backward()\n",
        "        g_opt.step()\n",
        "        \n",
        "        \n",
        "        # Save Metrics\n",
        "        \n",
        "        d_losses.append(d_loss.item())\n",
        "        g_losses.append(g_loss.item())\n",
        "        \n",
        "        avg_real_score = yhat_real.mean().item()\n",
        "        avg_fake_score = yhat_fake.mean().item()\n",
        "\n",
        "        pbar.set_description(f\"it: {j}; g_loss: {g_loss}; d_loss: {d_loss}; avg_real_score: {avg_real_score}; avg_fake_score: {avg_fake_score}\")\n",
        "        \n",
        "        if i % display_freq == 0:\n",
        "            labels = torch.arange(0, 10).expand(size=(10, 10)).flatten().to(device)\n",
        "            y = F.one_hot(labels).float().to(device)\n",
        "            fake_im = netG(z_test, y)\n",
        "            \n",
        "            un_norm = renorm(fake_im) # for visualization\n",
        "            \n",
        "            grid = torchvision.utils.make_grid(un_norm, nrow=10)\n",
        "            pil_grid = to_pil(grid)  \n",
        "            \n",
        "            plt.imshow(pil_grid)\n",
        "            plt.show()\n",
        "            \n",
        "            \n",
        "            plt.plot(range(len(g_losses)), g_losses, label='g loss')\n",
        "            plt.plot(range(len(g_losses)), d_losses, label='d loss')\n",
        "            \n",
        "            plt.legend()\n",
        "            plt.show()\n",
        "            \n",
        "        j += 1\n",
        "            "
      ]
    },
    {
      "cell_type": "markdown",
      "metadata": {
        "id": "MTxWRkC0m9Bj"
      },
      "source": [
        "## 4.2 Testing\n",
        "Visualization of the impact of z on generation. All digits in the same column have the same noise vector z."
      ]
    },
    {
      "cell_type": "code",
      "execution_count": null,
      "metadata": {
        "id": "iNxBF1zpm9Bj"
      },
      "outputs": [],
      "source": [
        "n_ex = 15\n",
        "n_classes = 10\n",
        "\n",
        "z = sample_z(n_ex, nz).repeat(n_classes, 1) #.expand(10, nz)\n",
        "\n",
        "netG.eval()\n",
        "\n",
        "labels = torch.arange(n_classes).unsqueeze(0).reshape(-1, 1).repeat(1, n_ex).flatten().to(device)\n",
        "\n",
        "ys = F.one_hot(labels).float()\n",
        "fake_ims = netG(z, ys)\n",
        "\n",
        "un_norm= renorm(fake_ims) # for visualization\n",
        "grid = torchvision.utils.make_grid(un_norm, nrow=n_ex)\n",
        "pil_grid = to_pil(grid)  \n",
        "\n",
        "plt.imshow(pil_grid)\n",
        "plt.show()\n"
      ]
    },
    {
      "cell_type": "code",
      "execution_count": null,
      "metadata": {
        "id": "VlW5zajDm9Bj"
      },
      "outputs": [],
      "source": []
    }
  ],
  "metadata": {
    "accelerator": "GPU",
    "colab": {
      "collapsed_sections": [],
      "provenance": []
    },
    "kernelspec": {
      "display_name": "Python 3 (ipykernel)",
      "language": "python",
      "name": "python3"
    },
    "language_info": {
      "codemirror_mode": {
        "name": "ipython",
        "version": 3
      },
      "file_extension": ".py",
      "mimetype": "text/x-python",
      "name": "python",
      "nbconvert_exporter": "python",
      "pygments_lexer": "ipython3",
      "version": "3.9.5"
    },
    "widgets": {
      "application/vnd.jupyter.widget-state+json": {
        "b0d3efbdea6644a4b603714b4f9f334a": {
          "model_module": "@jupyter-widgets/controls",
          "model_name": "HBoxModel",
          "model_module_version": "1.5.0",
          "state": {
            "_view_name": "HBoxView",
            "_dom_classes": [],
            "_model_name": "HBoxModel",
            "_view_module": "@jupyter-widgets/controls",
            "_model_module_version": "1.5.0",
            "_view_count": null,
            "_view_module_version": "1.5.0",
            "box_style": "",
            "layout": "IPY_MODEL_6931368ce83c43f9b81d0d477c772854",
            "_model_module": "@jupyter-widgets/controls",
            "children": [
              "IPY_MODEL_4edeac1f6aec4e43ad0ebda56175c6d1",
              "IPY_MODEL_dc02750cffa44e93a198319a944d7888",
              "IPY_MODEL_aa08f9ca34eb4a798e942c2bde30f277"
            ]
          }
        },
        "6931368ce83c43f9b81d0d477c772854": {
          "model_module": "@jupyter-widgets/base",
          "model_name": "LayoutModel",
          "model_module_version": "1.2.0",
          "state": {
            "_view_name": "LayoutView",
            "grid_template_rows": null,
            "right": null,
            "justify_content": null,
            "_view_module": "@jupyter-widgets/base",
            "overflow": null,
            "_model_module_version": "1.2.0",
            "_view_count": null,
            "flex_flow": null,
            "width": null,
            "min_width": null,
            "border": null,
            "align_items": null,
            "bottom": null,
            "_model_module": "@jupyter-widgets/base",
            "top": null,
            "grid_column": null,
            "overflow_y": null,
            "overflow_x": null,
            "grid_auto_flow": null,
            "grid_area": null,
            "grid_template_columns": null,
            "flex": null,
            "_model_name": "LayoutModel",
            "justify_items": null,
            "grid_row": null,
            "max_height": null,
            "align_content": null,
            "visibility": null,
            "align_self": null,
            "height": null,
            "min_height": null,
            "padding": null,
            "grid_auto_rows": null,
            "grid_gap": null,
            "max_width": null,
            "order": null,
            "_view_module_version": "1.2.0",
            "grid_template_areas": null,
            "object_position": null,
            "object_fit": null,
            "grid_auto_columns": null,
            "margin": null,
            "display": null,
            "left": null
          }
        },
        "4edeac1f6aec4e43ad0ebda56175c6d1": {
          "model_module": "@jupyter-widgets/controls",
          "model_name": "HTMLModel",
          "model_module_version": "1.5.0",
          "state": {
            "_view_name": "HTMLView",
            "style": "IPY_MODEL_b647f64834664608b60ac214aa26de5a",
            "_dom_classes": [],
            "description": "",
            "_model_name": "HTMLModel",
            "placeholder": "​",
            "_view_module": "@jupyter-widgets/controls",
            "_model_module_version": "1.5.0",
            "value": "",
            "_view_count": null,
            "_view_module_version": "1.5.0",
            "description_tooltip": null,
            "_model_module": "@jupyter-widgets/controls",
            "layout": "IPY_MODEL_dbcd310a3bf0443082683a8291a500c9"
          }
        },
        "dc02750cffa44e93a198319a944d7888": {
          "model_module": "@jupyter-widgets/controls",
          "model_name": "FloatProgressModel",
          "model_module_version": "1.5.0",
          "state": {
            "_view_name": "ProgressView",
            "style": "IPY_MODEL_c60ec045f54344ed96329d1679745e37",
            "_dom_classes": [],
            "description": "",
            "_model_name": "FloatProgressModel",
            "bar_style": "success",
            "max": 9912422,
            "_view_module": "@jupyter-widgets/controls",
            "_model_module_version": "1.5.0",
            "value": 9912422,
            "_view_count": null,
            "_view_module_version": "1.5.0",
            "orientation": "horizontal",
            "min": 0,
            "description_tooltip": null,
            "_model_module": "@jupyter-widgets/controls",
            "layout": "IPY_MODEL_2a05f6db0c4447c3adb9f30b1580a4e0"
          }
        },
        "aa08f9ca34eb4a798e942c2bde30f277": {
          "model_module": "@jupyter-widgets/controls",
          "model_name": "HTMLModel",
          "model_module_version": "1.5.0",
          "state": {
            "_view_name": "HTMLView",
            "style": "IPY_MODEL_011e839eab2040fcaf3ecf8d785b6e40",
            "_dom_classes": [],
            "description": "",
            "_model_name": "HTMLModel",
            "placeholder": "​",
            "_view_module": "@jupyter-widgets/controls",
            "_model_module_version": "1.5.0",
            "value": " 9913344/? [00:00&lt;00:00, 57866157.22it/s]",
            "_view_count": null,
            "_view_module_version": "1.5.0",
            "description_tooltip": null,
            "_model_module": "@jupyter-widgets/controls",
            "layout": "IPY_MODEL_95f83512d9ce4250b7e5750c8fa4b6da"
          }
        },
        "b647f64834664608b60ac214aa26de5a": {
          "model_module": "@jupyter-widgets/controls",
          "model_name": "DescriptionStyleModel",
          "model_module_version": "1.5.0",
          "state": {
            "_view_name": "StyleView",
            "_model_name": "DescriptionStyleModel",
            "description_width": "",
            "_view_module": "@jupyter-widgets/base",
            "_model_module_version": "1.5.0",
            "_view_count": null,
            "_view_module_version": "1.2.0",
            "_model_module": "@jupyter-widgets/controls"
          }
        },
        "dbcd310a3bf0443082683a8291a500c9": {
          "model_module": "@jupyter-widgets/base",
          "model_name": "LayoutModel",
          "model_module_version": "1.2.0",
          "state": {
            "_view_name": "LayoutView",
            "grid_template_rows": null,
            "right": null,
            "justify_content": null,
            "_view_module": "@jupyter-widgets/base",
            "overflow": null,
            "_model_module_version": "1.2.0",
            "_view_count": null,
            "flex_flow": null,
            "width": null,
            "min_width": null,
            "border": null,
            "align_items": null,
            "bottom": null,
            "_model_module": "@jupyter-widgets/base",
            "top": null,
            "grid_column": null,
            "overflow_y": null,
            "overflow_x": null,
            "grid_auto_flow": null,
            "grid_area": null,
            "grid_template_columns": null,
            "flex": null,
            "_model_name": "LayoutModel",
            "justify_items": null,
            "grid_row": null,
            "max_height": null,
            "align_content": null,
            "visibility": null,
            "align_self": null,
            "height": null,
            "min_height": null,
            "padding": null,
            "grid_auto_rows": null,
            "grid_gap": null,
            "max_width": null,
            "order": null,
            "_view_module_version": "1.2.0",
            "grid_template_areas": null,
            "object_position": null,
            "object_fit": null,
            "grid_auto_columns": null,
            "margin": null,
            "display": null,
            "left": null
          }
        },
        "c60ec045f54344ed96329d1679745e37": {
          "model_module": "@jupyter-widgets/controls",
          "model_name": "ProgressStyleModel",
          "model_module_version": "1.5.0",
          "state": {
            "_view_name": "StyleView",
            "_model_name": "ProgressStyleModel",
            "description_width": "",
            "_view_module": "@jupyter-widgets/base",
            "_model_module_version": "1.5.0",
            "_view_count": null,
            "_view_module_version": "1.2.0",
            "bar_color": null,
            "_model_module": "@jupyter-widgets/controls"
          }
        },
        "2a05f6db0c4447c3adb9f30b1580a4e0": {
          "model_module": "@jupyter-widgets/base",
          "model_name": "LayoutModel",
          "model_module_version": "1.2.0",
          "state": {
            "_view_name": "LayoutView",
            "grid_template_rows": null,
            "right": null,
            "justify_content": null,
            "_view_module": "@jupyter-widgets/base",
            "overflow": null,
            "_model_module_version": "1.2.0",
            "_view_count": null,
            "flex_flow": null,
            "width": null,
            "min_width": null,
            "border": null,
            "align_items": null,
            "bottom": null,
            "_model_module": "@jupyter-widgets/base",
            "top": null,
            "grid_column": null,
            "overflow_y": null,
            "overflow_x": null,
            "grid_auto_flow": null,
            "grid_area": null,
            "grid_template_columns": null,
            "flex": null,
            "_model_name": "LayoutModel",
            "justify_items": null,
            "grid_row": null,
            "max_height": null,
            "align_content": null,
            "visibility": null,
            "align_self": null,
            "height": null,
            "min_height": null,
            "padding": null,
            "grid_auto_rows": null,
            "grid_gap": null,
            "max_width": null,
            "order": null,
            "_view_module_version": "1.2.0",
            "grid_template_areas": null,
            "object_position": null,
            "object_fit": null,
            "grid_auto_columns": null,
            "margin": null,
            "display": null,
            "left": null
          }
        },
        "011e839eab2040fcaf3ecf8d785b6e40": {
          "model_module": "@jupyter-widgets/controls",
          "model_name": "DescriptionStyleModel",
          "model_module_version": "1.5.0",
          "state": {
            "_view_name": "StyleView",
            "_model_name": "DescriptionStyleModel",
            "description_width": "",
            "_view_module": "@jupyter-widgets/base",
            "_model_module_version": "1.5.0",
            "_view_count": null,
            "_view_module_version": "1.2.0",
            "_model_module": "@jupyter-widgets/controls"
          }
        },
        "95f83512d9ce4250b7e5750c8fa4b6da": {
          "model_module": "@jupyter-widgets/base",
          "model_name": "LayoutModel",
          "model_module_version": "1.2.0",
          "state": {
            "_view_name": "LayoutView",
            "grid_template_rows": null,
            "right": null,
            "justify_content": null,
            "_view_module": "@jupyter-widgets/base",
            "overflow": null,
            "_model_module_version": "1.2.0",
            "_view_count": null,
            "flex_flow": null,
            "width": null,
            "min_width": null,
            "border": null,
            "align_items": null,
            "bottom": null,
            "_model_module": "@jupyter-widgets/base",
            "top": null,
            "grid_column": null,
            "overflow_y": null,
            "overflow_x": null,
            "grid_auto_flow": null,
            "grid_area": null,
            "grid_template_columns": null,
            "flex": null,
            "_model_name": "LayoutModel",
            "justify_items": null,
            "grid_row": null,
            "max_height": null,
            "align_content": null,
            "visibility": null,
            "align_self": null,
            "height": null,
            "min_height": null,
            "padding": null,
            "grid_auto_rows": null,
            "grid_gap": null,
            "max_width": null,
            "order": null,
            "_view_module_version": "1.2.0",
            "grid_template_areas": null,
            "object_position": null,
            "object_fit": null,
            "grid_auto_columns": null,
            "margin": null,
            "display": null,
            "left": null
          }
        },
        "edee30da8a674e748f45b693d3b0074a": {
          "model_module": "@jupyter-widgets/controls",
          "model_name": "HBoxModel",
          "model_module_version": "1.5.0",
          "state": {
            "_view_name": "HBoxView",
            "_dom_classes": [],
            "_model_name": "HBoxModel",
            "_view_module": "@jupyter-widgets/controls",
            "_model_module_version": "1.5.0",
            "_view_count": null,
            "_view_module_version": "1.5.0",
            "box_style": "",
            "layout": "IPY_MODEL_cc2727dc8136438f88c77e1a4cde3197",
            "_model_module": "@jupyter-widgets/controls",
            "children": [
              "IPY_MODEL_c6539cb3de444c319691f310a13d914c",
              "IPY_MODEL_9c0045c84bd747949ff75162fc569ef4",
              "IPY_MODEL_b5f655fd0a3c424382ecd885b715b23d"
            ]
          }
        },
        "cc2727dc8136438f88c77e1a4cde3197": {
          "model_module": "@jupyter-widgets/base",
          "model_name": "LayoutModel",
          "model_module_version": "1.2.0",
          "state": {
            "_view_name": "LayoutView",
            "grid_template_rows": null,
            "right": null,
            "justify_content": null,
            "_view_module": "@jupyter-widgets/base",
            "overflow": null,
            "_model_module_version": "1.2.0",
            "_view_count": null,
            "flex_flow": null,
            "width": null,
            "min_width": null,
            "border": null,
            "align_items": null,
            "bottom": null,
            "_model_module": "@jupyter-widgets/base",
            "top": null,
            "grid_column": null,
            "overflow_y": null,
            "overflow_x": null,
            "grid_auto_flow": null,
            "grid_area": null,
            "grid_template_columns": null,
            "flex": null,
            "_model_name": "LayoutModel",
            "justify_items": null,
            "grid_row": null,
            "max_height": null,
            "align_content": null,
            "visibility": null,
            "align_self": null,
            "height": null,
            "min_height": null,
            "padding": null,
            "grid_auto_rows": null,
            "grid_gap": null,
            "max_width": null,
            "order": null,
            "_view_module_version": "1.2.0",
            "grid_template_areas": null,
            "object_position": null,
            "object_fit": null,
            "grid_auto_columns": null,
            "margin": null,
            "display": null,
            "left": null
          }
        },
        "c6539cb3de444c319691f310a13d914c": {
          "model_module": "@jupyter-widgets/controls",
          "model_name": "HTMLModel",
          "model_module_version": "1.5.0",
          "state": {
            "_view_name": "HTMLView",
            "style": "IPY_MODEL_030a14be412d4146a39e9037ce95cdbd",
            "_dom_classes": [],
            "description": "",
            "_model_name": "HTMLModel",
            "placeholder": "​",
            "_view_module": "@jupyter-widgets/controls",
            "_model_module_version": "1.5.0",
            "value": "",
            "_view_count": null,
            "_view_module_version": "1.5.0",
            "description_tooltip": null,
            "_model_module": "@jupyter-widgets/controls",
            "layout": "IPY_MODEL_bae40d01488c4fff829b3e87db11a232"
          }
        },
        "9c0045c84bd747949ff75162fc569ef4": {
          "model_module": "@jupyter-widgets/controls",
          "model_name": "FloatProgressModel",
          "model_module_version": "1.5.0",
          "state": {
            "_view_name": "ProgressView",
            "style": "IPY_MODEL_ac00258e5b754af7a48e450ad8403fcb",
            "_dom_classes": [],
            "description": "",
            "_model_name": "FloatProgressModel",
            "bar_style": "success",
            "max": 28881,
            "_view_module": "@jupyter-widgets/controls",
            "_model_module_version": "1.5.0",
            "value": 28881,
            "_view_count": null,
            "_view_module_version": "1.5.0",
            "orientation": "horizontal",
            "min": 0,
            "description_tooltip": null,
            "_model_module": "@jupyter-widgets/controls",
            "layout": "IPY_MODEL_9ac8d8ddffd54f729797cb59b555e6c5"
          }
        },
        "b5f655fd0a3c424382ecd885b715b23d": {
          "model_module": "@jupyter-widgets/controls",
          "model_name": "HTMLModel",
          "model_module_version": "1.5.0",
          "state": {
            "_view_name": "HTMLView",
            "style": "IPY_MODEL_3f42c5ea2b7a40e9b00e2c8babac8670",
            "_dom_classes": [],
            "description": "",
            "_model_name": "HTMLModel",
            "placeholder": "​",
            "_view_module": "@jupyter-widgets/controls",
            "_model_module_version": "1.5.0",
            "value": " 29696/? [00:00&lt;00:00, 864184.53it/s]",
            "_view_count": null,
            "_view_module_version": "1.5.0",
            "description_tooltip": null,
            "_model_module": "@jupyter-widgets/controls",
            "layout": "IPY_MODEL_59dffed4123a4740a12f54b0803eb8a5"
          }
        },
        "030a14be412d4146a39e9037ce95cdbd": {
          "model_module": "@jupyter-widgets/controls",
          "model_name": "DescriptionStyleModel",
          "model_module_version": "1.5.0",
          "state": {
            "_view_name": "StyleView",
            "_model_name": "DescriptionStyleModel",
            "description_width": "",
            "_view_module": "@jupyter-widgets/base",
            "_model_module_version": "1.5.0",
            "_view_count": null,
            "_view_module_version": "1.2.0",
            "_model_module": "@jupyter-widgets/controls"
          }
        },
        "bae40d01488c4fff829b3e87db11a232": {
          "model_module": "@jupyter-widgets/base",
          "model_name": "LayoutModel",
          "model_module_version": "1.2.0",
          "state": {
            "_view_name": "LayoutView",
            "grid_template_rows": null,
            "right": null,
            "justify_content": null,
            "_view_module": "@jupyter-widgets/base",
            "overflow": null,
            "_model_module_version": "1.2.0",
            "_view_count": null,
            "flex_flow": null,
            "width": null,
            "min_width": null,
            "border": null,
            "align_items": null,
            "bottom": null,
            "_model_module": "@jupyter-widgets/base",
            "top": null,
            "grid_column": null,
            "overflow_y": null,
            "overflow_x": null,
            "grid_auto_flow": null,
            "grid_area": null,
            "grid_template_columns": null,
            "flex": null,
            "_model_name": "LayoutModel",
            "justify_items": null,
            "grid_row": null,
            "max_height": null,
            "align_content": null,
            "visibility": null,
            "align_self": null,
            "height": null,
            "min_height": null,
            "padding": null,
            "grid_auto_rows": null,
            "grid_gap": null,
            "max_width": null,
            "order": null,
            "_view_module_version": "1.2.0",
            "grid_template_areas": null,
            "object_position": null,
            "object_fit": null,
            "grid_auto_columns": null,
            "margin": null,
            "display": null,
            "left": null
          }
        },
        "ac00258e5b754af7a48e450ad8403fcb": {
          "model_module": "@jupyter-widgets/controls",
          "model_name": "ProgressStyleModel",
          "model_module_version": "1.5.0",
          "state": {
            "_view_name": "StyleView",
            "_model_name": "ProgressStyleModel",
            "description_width": "",
            "_view_module": "@jupyter-widgets/base",
            "_model_module_version": "1.5.0",
            "_view_count": null,
            "_view_module_version": "1.2.0",
            "bar_color": null,
            "_model_module": "@jupyter-widgets/controls"
          }
        },
        "9ac8d8ddffd54f729797cb59b555e6c5": {
          "model_module": "@jupyter-widgets/base",
          "model_name": "LayoutModel",
          "model_module_version": "1.2.0",
          "state": {
            "_view_name": "LayoutView",
            "grid_template_rows": null,
            "right": null,
            "justify_content": null,
            "_view_module": "@jupyter-widgets/base",
            "overflow": null,
            "_model_module_version": "1.2.0",
            "_view_count": null,
            "flex_flow": null,
            "width": null,
            "min_width": null,
            "border": null,
            "align_items": null,
            "bottom": null,
            "_model_module": "@jupyter-widgets/base",
            "top": null,
            "grid_column": null,
            "overflow_y": null,
            "overflow_x": null,
            "grid_auto_flow": null,
            "grid_area": null,
            "grid_template_columns": null,
            "flex": null,
            "_model_name": "LayoutModel",
            "justify_items": null,
            "grid_row": null,
            "max_height": null,
            "align_content": null,
            "visibility": null,
            "align_self": null,
            "height": null,
            "min_height": null,
            "padding": null,
            "grid_auto_rows": null,
            "grid_gap": null,
            "max_width": null,
            "order": null,
            "_view_module_version": "1.2.0",
            "grid_template_areas": null,
            "object_position": null,
            "object_fit": null,
            "grid_auto_columns": null,
            "margin": null,
            "display": null,
            "left": null
          }
        },
        "3f42c5ea2b7a40e9b00e2c8babac8670": {
          "model_module": "@jupyter-widgets/controls",
          "model_name": "DescriptionStyleModel",
          "model_module_version": "1.5.0",
          "state": {
            "_view_name": "StyleView",
            "_model_name": "DescriptionStyleModel",
            "description_width": "",
            "_view_module": "@jupyter-widgets/base",
            "_model_module_version": "1.5.0",
            "_view_count": null,
            "_view_module_version": "1.2.0",
            "_model_module": "@jupyter-widgets/controls"
          }
        },
        "59dffed4123a4740a12f54b0803eb8a5": {
          "model_module": "@jupyter-widgets/base",
          "model_name": "LayoutModel",
          "model_module_version": "1.2.0",
          "state": {
            "_view_name": "LayoutView",
            "grid_template_rows": null,
            "right": null,
            "justify_content": null,
            "_view_module": "@jupyter-widgets/base",
            "overflow": null,
            "_model_module_version": "1.2.0",
            "_view_count": null,
            "flex_flow": null,
            "width": null,
            "min_width": null,
            "border": null,
            "align_items": null,
            "bottom": null,
            "_model_module": "@jupyter-widgets/base",
            "top": null,
            "grid_column": null,
            "overflow_y": null,
            "overflow_x": null,
            "grid_auto_flow": null,
            "grid_area": null,
            "grid_template_columns": null,
            "flex": null,
            "_model_name": "LayoutModel",
            "justify_items": null,
            "grid_row": null,
            "max_height": null,
            "align_content": null,
            "visibility": null,
            "align_self": null,
            "height": null,
            "min_height": null,
            "padding": null,
            "grid_auto_rows": null,
            "grid_gap": null,
            "max_width": null,
            "order": null,
            "_view_module_version": "1.2.0",
            "grid_template_areas": null,
            "object_position": null,
            "object_fit": null,
            "grid_auto_columns": null,
            "margin": null,
            "display": null,
            "left": null
          }
        },
        "3d0961b17c904ffea31fbcbde3236a72": {
          "model_module": "@jupyter-widgets/controls",
          "model_name": "HBoxModel",
          "model_module_version": "1.5.0",
          "state": {
            "_view_name": "HBoxView",
            "_dom_classes": [],
            "_model_name": "HBoxModel",
            "_view_module": "@jupyter-widgets/controls",
            "_model_module_version": "1.5.0",
            "_view_count": null,
            "_view_module_version": "1.5.0",
            "box_style": "",
            "layout": "IPY_MODEL_71ff51cda1a8423f97218d03ff90f79b",
            "_model_module": "@jupyter-widgets/controls",
            "children": [
              "IPY_MODEL_e3aac1e8cff04bf4979ad1c6a56f6d3b",
              "IPY_MODEL_1a4e0a96930e423e9b532b12b1c7b9db",
              "IPY_MODEL_365f5ddd719740429eb4450cbb1b5d67"
            ]
          }
        },
        "71ff51cda1a8423f97218d03ff90f79b": {
          "model_module": "@jupyter-widgets/base",
          "model_name": "LayoutModel",
          "model_module_version": "1.2.0",
          "state": {
            "_view_name": "LayoutView",
            "grid_template_rows": null,
            "right": null,
            "justify_content": null,
            "_view_module": "@jupyter-widgets/base",
            "overflow": null,
            "_model_module_version": "1.2.0",
            "_view_count": null,
            "flex_flow": null,
            "width": null,
            "min_width": null,
            "border": null,
            "align_items": null,
            "bottom": null,
            "_model_module": "@jupyter-widgets/base",
            "top": null,
            "grid_column": null,
            "overflow_y": null,
            "overflow_x": null,
            "grid_auto_flow": null,
            "grid_area": null,
            "grid_template_columns": null,
            "flex": null,
            "_model_name": "LayoutModel",
            "justify_items": null,
            "grid_row": null,
            "max_height": null,
            "align_content": null,
            "visibility": null,
            "align_self": null,
            "height": null,
            "min_height": null,
            "padding": null,
            "grid_auto_rows": null,
            "grid_gap": null,
            "max_width": null,
            "order": null,
            "_view_module_version": "1.2.0",
            "grid_template_areas": null,
            "object_position": null,
            "object_fit": null,
            "grid_auto_columns": null,
            "margin": null,
            "display": null,
            "left": null
          }
        },
        "e3aac1e8cff04bf4979ad1c6a56f6d3b": {
          "model_module": "@jupyter-widgets/controls",
          "model_name": "HTMLModel",
          "model_module_version": "1.5.0",
          "state": {
            "_view_name": "HTMLView",
            "style": "IPY_MODEL_db41d56cad924fbfadd622824fab29d1",
            "_dom_classes": [],
            "description": "",
            "_model_name": "HTMLModel",
            "placeholder": "​",
            "_view_module": "@jupyter-widgets/controls",
            "_model_module_version": "1.5.0",
            "value": "",
            "_view_count": null,
            "_view_module_version": "1.5.0",
            "description_tooltip": null,
            "_model_module": "@jupyter-widgets/controls",
            "layout": "IPY_MODEL_7dec13fa0ea94b1cbbd001cf1e31f861"
          }
        },
        "1a4e0a96930e423e9b532b12b1c7b9db": {
          "model_module": "@jupyter-widgets/controls",
          "model_name": "FloatProgressModel",
          "model_module_version": "1.5.0",
          "state": {
            "_view_name": "ProgressView",
            "style": "IPY_MODEL_cdccf389bb4044e8a39bd52eae36c7bc",
            "_dom_classes": [],
            "description": "",
            "_model_name": "FloatProgressModel",
            "bar_style": "success",
            "max": 1648877,
            "_view_module": "@jupyter-widgets/controls",
            "_model_module_version": "1.5.0",
            "value": 1648877,
            "_view_count": null,
            "_view_module_version": "1.5.0",
            "orientation": "horizontal",
            "min": 0,
            "description_tooltip": null,
            "_model_module": "@jupyter-widgets/controls",
            "layout": "IPY_MODEL_b6b355d3cb504aedbe6c789f6a22786d"
          }
        },
        "365f5ddd719740429eb4450cbb1b5d67": {
          "model_module": "@jupyter-widgets/controls",
          "model_name": "HTMLModel",
          "model_module_version": "1.5.0",
          "state": {
            "_view_name": "HTMLView",
            "style": "IPY_MODEL_551ec1d3d0a84245808bec5e54da9f7d",
            "_dom_classes": [],
            "description": "",
            "_model_name": "HTMLModel",
            "placeholder": "​",
            "_view_module": "@jupyter-widgets/controls",
            "_model_module_version": "1.5.0",
            "value": " 1649664/? [00:00&lt;00:00, 24767836.41it/s]",
            "_view_count": null,
            "_view_module_version": "1.5.0",
            "description_tooltip": null,
            "_model_module": "@jupyter-widgets/controls",
            "layout": "IPY_MODEL_348dfcd7f68c4e549b03fe81489131e0"
          }
        },
        "db41d56cad924fbfadd622824fab29d1": {
          "model_module": "@jupyter-widgets/controls",
          "model_name": "DescriptionStyleModel",
          "model_module_version": "1.5.0",
          "state": {
            "_view_name": "StyleView",
            "_model_name": "DescriptionStyleModel",
            "description_width": "",
            "_view_module": "@jupyter-widgets/base",
            "_model_module_version": "1.5.0",
            "_view_count": null,
            "_view_module_version": "1.2.0",
            "_model_module": "@jupyter-widgets/controls"
          }
        },
        "7dec13fa0ea94b1cbbd001cf1e31f861": {
          "model_module": "@jupyter-widgets/base",
          "model_name": "LayoutModel",
          "model_module_version": "1.2.0",
          "state": {
            "_view_name": "LayoutView",
            "grid_template_rows": null,
            "right": null,
            "justify_content": null,
            "_view_module": "@jupyter-widgets/base",
            "overflow": null,
            "_model_module_version": "1.2.0",
            "_view_count": null,
            "flex_flow": null,
            "width": null,
            "min_width": null,
            "border": null,
            "align_items": null,
            "bottom": null,
            "_model_module": "@jupyter-widgets/base",
            "top": null,
            "grid_column": null,
            "overflow_y": null,
            "overflow_x": null,
            "grid_auto_flow": null,
            "grid_area": null,
            "grid_template_columns": null,
            "flex": null,
            "_model_name": "LayoutModel",
            "justify_items": null,
            "grid_row": null,
            "max_height": null,
            "align_content": null,
            "visibility": null,
            "align_self": null,
            "height": null,
            "min_height": null,
            "padding": null,
            "grid_auto_rows": null,
            "grid_gap": null,
            "max_width": null,
            "order": null,
            "_view_module_version": "1.2.0",
            "grid_template_areas": null,
            "object_position": null,
            "object_fit": null,
            "grid_auto_columns": null,
            "margin": null,
            "display": null,
            "left": null
          }
        },
        "cdccf389bb4044e8a39bd52eae36c7bc": {
          "model_module": "@jupyter-widgets/controls",
          "model_name": "ProgressStyleModel",
          "model_module_version": "1.5.0",
          "state": {
            "_view_name": "StyleView",
            "_model_name": "ProgressStyleModel",
            "description_width": "",
            "_view_module": "@jupyter-widgets/base",
            "_model_module_version": "1.5.0",
            "_view_count": null,
            "_view_module_version": "1.2.0",
            "bar_color": null,
            "_model_module": "@jupyter-widgets/controls"
          }
        },
        "b6b355d3cb504aedbe6c789f6a22786d": {
          "model_module": "@jupyter-widgets/base",
          "model_name": "LayoutModel",
          "model_module_version": "1.2.0",
          "state": {
            "_view_name": "LayoutView",
            "grid_template_rows": null,
            "right": null,
            "justify_content": null,
            "_view_module": "@jupyter-widgets/base",
            "overflow": null,
            "_model_module_version": "1.2.0",
            "_view_count": null,
            "flex_flow": null,
            "width": null,
            "min_width": null,
            "border": null,
            "align_items": null,
            "bottom": null,
            "_model_module": "@jupyter-widgets/base",
            "top": null,
            "grid_column": null,
            "overflow_y": null,
            "overflow_x": null,
            "grid_auto_flow": null,
            "grid_area": null,
            "grid_template_columns": null,
            "flex": null,
            "_model_name": "LayoutModel",
            "justify_items": null,
            "grid_row": null,
            "max_height": null,
            "align_content": null,
            "visibility": null,
            "align_self": null,
            "height": null,
            "min_height": null,
            "padding": null,
            "grid_auto_rows": null,
            "grid_gap": null,
            "max_width": null,
            "order": null,
            "_view_module_version": "1.2.0",
            "grid_template_areas": null,
            "object_position": null,
            "object_fit": null,
            "grid_auto_columns": null,
            "margin": null,
            "display": null,
            "left": null
          }
        },
        "551ec1d3d0a84245808bec5e54da9f7d": {
          "model_module": "@jupyter-widgets/controls",
          "model_name": "DescriptionStyleModel",
          "model_module_version": "1.5.0",
          "state": {
            "_view_name": "StyleView",
            "_model_name": "DescriptionStyleModel",
            "description_width": "",
            "_view_module": "@jupyter-widgets/base",
            "_model_module_version": "1.5.0",
            "_view_count": null,
            "_view_module_version": "1.2.0",
            "_model_module": "@jupyter-widgets/controls"
          }
        },
        "348dfcd7f68c4e549b03fe81489131e0": {
          "model_module": "@jupyter-widgets/base",
          "model_name": "LayoutModel",
          "model_module_version": "1.2.0",
          "state": {
            "_view_name": "LayoutView",
            "grid_template_rows": null,
            "right": null,
            "justify_content": null,
            "_view_module": "@jupyter-widgets/base",
            "overflow": null,
            "_model_module_version": "1.2.0",
            "_view_count": null,
            "flex_flow": null,
            "width": null,
            "min_width": null,
            "border": null,
            "align_items": null,
            "bottom": null,
            "_model_module": "@jupyter-widgets/base",
            "top": null,
            "grid_column": null,
            "overflow_y": null,
            "overflow_x": null,
            "grid_auto_flow": null,
            "grid_area": null,
            "grid_template_columns": null,
            "flex": null,
            "_model_name": "LayoutModel",
            "justify_items": null,
            "grid_row": null,
            "max_height": null,
            "align_content": null,
            "visibility": null,
            "align_self": null,
            "height": null,
            "min_height": null,
            "padding": null,
            "grid_auto_rows": null,
            "grid_gap": null,
            "max_width": null,
            "order": null,
            "_view_module_version": "1.2.0",
            "grid_template_areas": null,
            "object_position": null,
            "object_fit": null,
            "grid_auto_columns": null,
            "margin": null,
            "display": null,
            "left": null
          }
        },
        "4e5097d5794e481385cbb8f119b15f85": {
          "model_module": "@jupyter-widgets/controls",
          "model_name": "HBoxModel",
          "model_module_version": "1.5.0",
          "state": {
            "_view_name": "HBoxView",
            "_dom_classes": [],
            "_model_name": "HBoxModel",
            "_view_module": "@jupyter-widgets/controls",
            "_model_module_version": "1.5.0",
            "_view_count": null,
            "_view_module_version": "1.5.0",
            "box_style": "",
            "layout": "IPY_MODEL_e9ef49b839cc4395bdd5a5f074f121fd",
            "_model_module": "@jupyter-widgets/controls",
            "children": [
              "IPY_MODEL_74ed4594129d47fb87eecec9d7c801ac",
              "IPY_MODEL_e1345152e9c6477491727bcca49c4779",
              "IPY_MODEL_2472e186ac6a4338946b50f2811da549"
            ]
          }
        },
        "e9ef49b839cc4395bdd5a5f074f121fd": {
          "model_module": "@jupyter-widgets/base",
          "model_name": "LayoutModel",
          "model_module_version": "1.2.0",
          "state": {
            "_view_name": "LayoutView",
            "grid_template_rows": null,
            "right": null,
            "justify_content": null,
            "_view_module": "@jupyter-widgets/base",
            "overflow": null,
            "_model_module_version": "1.2.0",
            "_view_count": null,
            "flex_flow": null,
            "width": null,
            "min_width": null,
            "border": null,
            "align_items": null,
            "bottom": null,
            "_model_module": "@jupyter-widgets/base",
            "top": null,
            "grid_column": null,
            "overflow_y": null,
            "overflow_x": null,
            "grid_auto_flow": null,
            "grid_area": null,
            "grid_template_columns": null,
            "flex": null,
            "_model_name": "LayoutModel",
            "justify_items": null,
            "grid_row": null,
            "max_height": null,
            "align_content": null,
            "visibility": null,
            "align_self": null,
            "height": null,
            "min_height": null,
            "padding": null,
            "grid_auto_rows": null,
            "grid_gap": null,
            "max_width": null,
            "order": null,
            "_view_module_version": "1.2.0",
            "grid_template_areas": null,
            "object_position": null,
            "object_fit": null,
            "grid_auto_columns": null,
            "margin": null,
            "display": null,
            "left": null
          }
        },
        "74ed4594129d47fb87eecec9d7c801ac": {
          "model_module": "@jupyter-widgets/controls",
          "model_name": "HTMLModel",
          "model_module_version": "1.5.0",
          "state": {
            "_view_name": "HTMLView",
            "style": "IPY_MODEL_befb1c2c63a0461ebd24dddf8baf9f8d",
            "_dom_classes": [],
            "description": "",
            "_model_name": "HTMLModel",
            "placeholder": "​",
            "_view_module": "@jupyter-widgets/controls",
            "_model_module_version": "1.5.0",
            "value": "",
            "_view_count": null,
            "_view_module_version": "1.5.0",
            "description_tooltip": null,
            "_model_module": "@jupyter-widgets/controls",
            "layout": "IPY_MODEL_1e6670cd868442d1b721b155c78fec4d"
          }
        },
        "e1345152e9c6477491727bcca49c4779": {
          "model_module": "@jupyter-widgets/controls",
          "model_name": "FloatProgressModel",
          "model_module_version": "1.5.0",
          "state": {
            "_view_name": "ProgressView",
            "style": "IPY_MODEL_5ab8624d9edc4e9795764ae92e0f94ef",
            "_dom_classes": [],
            "description": "",
            "_model_name": "FloatProgressModel",
            "bar_style": "success",
            "max": 4542,
            "_view_module": "@jupyter-widgets/controls",
            "_model_module_version": "1.5.0",
            "value": 4542,
            "_view_count": null,
            "_view_module_version": "1.5.0",
            "orientation": "horizontal",
            "min": 0,
            "description_tooltip": null,
            "_model_module": "@jupyter-widgets/controls",
            "layout": "IPY_MODEL_371af3326d2d41f7b4c2984ea0d6c1ad"
          }
        },
        "2472e186ac6a4338946b50f2811da549": {
          "model_module": "@jupyter-widgets/controls",
          "model_name": "HTMLModel",
          "model_module_version": "1.5.0",
          "state": {
            "_view_name": "HTMLView",
            "style": "IPY_MODEL_f9f217a2b0bd47b6aab6762b0b1dac35",
            "_dom_classes": [],
            "description": "",
            "_model_name": "HTMLModel",
            "placeholder": "​",
            "_view_module": "@jupyter-widgets/controls",
            "_model_module_version": "1.5.0",
            "value": " 5120/? [00:00&lt;00:00, 199652.63it/s]",
            "_view_count": null,
            "_view_module_version": "1.5.0",
            "description_tooltip": null,
            "_model_module": "@jupyter-widgets/controls",
            "layout": "IPY_MODEL_b9fd6be738ee456784d112c4ad609802"
          }
        },
        "befb1c2c63a0461ebd24dddf8baf9f8d": {
          "model_module": "@jupyter-widgets/controls",
          "model_name": "DescriptionStyleModel",
          "model_module_version": "1.5.0",
          "state": {
            "_view_name": "StyleView",
            "_model_name": "DescriptionStyleModel",
            "description_width": "",
            "_view_module": "@jupyter-widgets/base",
            "_model_module_version": "1.5.0",
            "_view_count": null,
            "_view_module_version": "1.2.0",
            "_model_module": "@jupyter-widgets/controls"
          }
        },
        "1e6670cd868442d1b721b155c78fec4d": {
          "model_module": "@jupyter-widgets/base",
          "model_name": "LayoutModel",
          "model_module_version": "1.2.0",
          "state": {
            "_view_name": "LayoutView",
            "grid_template_rows": null,
            "right": null,
            "justify_content": null,
            "_view_module": "@jupyter-widgets/base",
            "overflow": null,
            "_model_module_version": "1.2.0",
            "_view_count": null,
            "flex_flow": null,
            "width": null,
            "min_width": null,
            "border": null,
            "align_items": null,
            "bottom": null,
            "_model_module": "@jupyter-widgets/base",
            "top": null,
            "grid_column": null,
            "overflow_y": null,
            "overflow_x": null,
            "grid_auto_flow": null,
            "grid_area": null,
            "grid_template_columns": null,
            "flex": null,
            "_model_name": "LayoutModel",
            "justify_items": null,
            "grid_row": null,
            "max_height": null,
            "align_content": null,
            "visibility": null,
            "align_self": null,
            "height": null,
            "min_height": null,
            "padding": null,
            "grid_auto_rows": null,
            "grid_gap": null,
            "max_width": null,
            "order": null,
            "_view_module_version": "1.2.0",
            "grid_template_areas": null,
            "object_position": null,
            "object_fit": null,
            "grid_auto_columns": null,
            "margin": null,
            "display": null,
            "left": null
          }
        },
        "5ab8624d9edc4e9795764ae92e0f94ef": {
          "model_module": "@jupyter-widgets/controls",
          "model_name": "ProgressStyleModel",
          "model_module_version": "1.5.0",
          "state": {
            "_view_name": "StyleView",
            "_model_name": "ProgressStyleModel",
            "description_width": "",
            "_view_module": "@jupyter-widgets/base",
            "_model_module_version": "1.5.0",
            "_view_count": null,
            "_view_module_version": "1.2.0",
            "bar_color": null,
            "_model_module": "@jupyter-widgets/controls"
          }
        },
        "371af3326d2d41f7b4c2984ea0d6c1ad": {
          "model_module": "@jupyter-widgets/base",
          "model_name": "LayoutModel",
          "model_module_version": "1.2.0",
          "state": {
            "_view_name": "LayoutView",
            "grid_template_rows": null,
            "right": null,
            "justify_content": null,
            "_view_module": "@jupyter-widgets/base",
            "overflow": null,
            "_model_module_version": "1.2.0",
            "_view_count": null,
            "flex_flow": null,
            "width": null,
            "min_width": null,
            "border": null,
            "align_items": null,
            "bottom": null,
            "_model_module": "@jupyter-widgets/base",
            "top": null,
            "grid_column": null,
            "overflow_y": null,
            "overflow_x": null,
            "grid_auto_flow": null,
            "grid_area": null,
            "grid_template_columns": null,
            "flex": null,
            "_model_name": "LayoutModel",
            "justify_items": null,
            "grid_row": null,
            "max_height": null,
            "align_content": null,
            "visibility": null,
            "align_self": null,
            "height": null,
            "min_height": null,
            "padding": null,
            "grid_auto_rows": null,
            "grid_gap": null,
            "max_width": null,
            "order": null,
            "_view_module_version": "1.2.0",
            "grid_template_areas": null,
            "object_position": null,
            "object_fit": null,
            "grid_auto_columns": null,
            "margin": null,
            "display": null,
            "left": null
          }
        },
        "f9f217a2b0bd47b6aab6762b0b1dac35": {
          "model_module": "@jupyter-widgets/controls",
          "model_name": "DescriptionStyleModel",
          "model_module_version": "1.5.0",
          "state": {
            "_view_name": "StyleView",
            "_model_name": "DescriptionStyleModel",
            "description_width": "",
            "_view_module": "@jupyter-widgets/base",
            "_model_module_version": "1.5.0",
            "_view_count": null,
            "_view_module_version": "1.2.0",
            "_model_module": "@jupyter-widgets/controls"
          }
        },
        "b9fd6be738ee456784d112c4ad609802": {
          "model_module": "@jupyter-widgets/base",
          "model_name": "LayoutModel",
          "model_module_version": "1.2.0",
          "state": {
            "_view_name": "LayoutView",
            "grid_template_rows": null,
            "right": null,
            "justify_content": null,
            "_view_module": "@jupyter-widgets/base",
            "overflow": null,
            "_model_module_version": "1.2.0",
            "_view_count": null,
            "flex_flow": null,
            "width": null,
            "min_width": null,
            "border": null,
            "align_items": null,
            "bottom": null,
            "_model_module": "@jupyter-widgets/base",
            "top": null,
            "grid_column": null,
            "overflow_y": null,
            "overflow_x": null,
            "grid_auto_flow": null,
            "grid_area": null,
            "grid_template_columns": null,
            "flex": null,
            "_model_name": "LayoutModel",
            "justify_items": null,
            "grid_row": null,
            "max_height": null,
            "align_content": null,
            "visibility": null,
            "align_self": null,
            "height": null,
            "min_height": null,
            "padding": null,
            "grid_auto_rows": null,
            "grid_gap": null,
            "max_width": null,
            "order": null,
            "_view_module_version": "1.2.0",
            "grid_template_areas": null,
            "object_position": null,
            "object_fit": null,
            "grid_auto_columns": null,
            "margin": null,
            "display": null,
            "left": null
          }
        }
      }
    }
  },
  "nbformat": 4,
  "nbformat_minor": 0
}